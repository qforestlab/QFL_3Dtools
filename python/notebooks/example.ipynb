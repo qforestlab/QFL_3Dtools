{
 "cells": [
  {
   "cell_type": "markdown",
   "id": "11fdf651",
   "metadata": {},
   "source": [
    "# Example notebook for using QFL_3Dtools"
   ]
  },
  {
   "cell_type": "code",
   "execution_count": null,
   "id": "cad45a86",
   "metadata": {
    "vscode": {
     "languageId": "plaintext"
    }
   },
   "outputs": [],
   "source": [
    "# Import all functions for input-output \n",
    "from qfl3dtools.io import *\n",
    "\n",
    "# Convert text file to ply file\n",
    "input_file = '...'\n",
    "output_file = '...\n",
    "txt_to_ply(input_file, output_file)"
   ]
  }
 ],
 "metadata": {
  "language_info": {
   "name": "python"
  }
 },
 "nbformat": 4,
 "nbformat_minor": 5
}
